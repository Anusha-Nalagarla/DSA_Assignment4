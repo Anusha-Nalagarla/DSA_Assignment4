{
 "cells": [
  {
   "cell_type": "markdown",
   "id": "68680fc3",
   "metadata": {},
   "source": [
    "Question 1 Given three integer arrays arr1, arr2 and arr3 sorted in strictly increasing order, return a sorted array of only the integers that appeared in all three arrays."
   ]
  },
  {
   "cell_type": "code",
   "execution_count": null,
   "id": "73bad5dc",
   "metadata": {},
   "outputs": [],
   "source": [
    "def Q1(ar1, ar2, ar3):\n",
    "    a1=len(ar1)\n",
    "    a2=len(ar2)\n",
    "    a3=len(ar3)\n",
    "    i, j, k = 0, 0, 0\n",
    "    while (i < a1 and j < a2 and k < a3):\n",
    "        if (ar1[i] == ar2[j] and ar2[j] == ar3[k]):\n",
    "            print ar1[i],\n",
    "            i += 1\n",
    "            j += 1\n",
    "            k += 1\n",
    "        elif ar1[i] < ar2[j]:\n",
    "            i += 1\n",
    "        elif ar2[j] < ar3[k]:\n",
    "            j += 1\n",
    "        else:\n",
    "            k += 1\n",
    "Q1([1,2,3,4,5], [1,2,5,7,9], [1,3,4,5,8])"
   ]
  },
  {
   "cell_type": "markdown",
   "id": "4afb83f9",
   "metadata": {},
   "source": [
    "💡 Question 2\n",
    "Given two 0-indexed integer arrays nums1 and nums2, return a list answer of size 2 where:\n",
    "•\tanswer[0] is a list of all distinct integers in nums1 which are not present in nums2*.*\n",
    "•\tanswer[1] is a list of all distinct integers in nums2 which are not present in nums1."
   ]
  },
  {
   "cell_type": "code",
   "execution_count": null,
   "id": "d0ba4a5f",
   "metadata": {},
   "outputs": [],
   "source": [
    "def Q2(nums1,nums2):        \n",
    "        return [[x for x in set(nums1) if x not in set(nums2)], \n",
    "                [x for x in set(nums2) if x not in set(nums1)]]\n",
    "Q2([1,2,3],[2,4,6])"
   ]
  },
  {
   "cell_type": "markdown",
   "id": "8c612fbf",
   "metadata": {},
   "source": [
    "Question 3 Given a 2D integer array matrix, return the transpose of matrix.\n",
    "The transpose of a matrix is the matrix flipped over its main diagonal, switching the matrix's row and column indices."
   ]
  },
  {
   "cell_type": "code",
   "execution_count": null,
   "id": "36e07989",
   "metadata": {},
   "outputs": [],
   "source": [
    "def Q3(matrix):\n",
    "    rows = len(matrix)\n",
    "    cols = len(matrix[0])\n",
    "    t = [[0]*rows for i in range(cols)]\n",
    "    for i in range(0, cols):  \n",
    "        for j in range(0, rows):   \n",
    "            t[i][j] = matrix[j][i]\n",
    "    for i in range(0, cols):  \n",
    "        for j in range(0, rows):  \n",
    "            print(t[i][j],end=\" \")\n",
    "\n",
    "        print(\" \")\n",
    "Q3([[1,2,3],[4,5,6],[7,8,9]])"
   ]
  },
  {
   "cell_type": "markdown",
   "id": "58620180",
   "metadata": {},
   "source": [
    "Question 4 Given an integer array nums of 2n integers, group these integers into n pairs (a1, b1), (a2, b2), ..., (an, bn) such that the sum of min(ai, bi) for all i is maximized. Return the maximized sum."
   ]
  },
  {
   "cell_type": "code",
   "execution_count": null,
   "id": "b7ab25d0",
   "metadata": {},
   "outputs": [],
   "source": [
    "def Q4():\n",
    "    nums.sort()\n",
    "    result = 0\n",
    "    numsLen = len(nums)\n",
    "    for i in range(0, numsLen - 1, 2):\n",
    "        result += nums[i]\n",
    "    return result\n",
    "Q4([1,4,3,2])"
   ]
  },
  {
   "cell_type": "markdown",
   "id": "7aa157cb",
   "metadata": {},
   "source": [
    "Question 5 You have n coins and you want to build a staircase with these coins. The staircase consists of k rows where the ith row has exactly i coins. The last row of the staircase may be incomplete.\n",
    "Given the integer n, return the number of complete rows of the staircase you will build.\n"
   ]
  },
  {
   "cell_type": "code",
   "execution_count": 6,
   "id": "10fa6c0b",
   "metadata": {},
   "outputs": [
    {
     "data": {
      "text/plain": [
       "2"
      ]
     },
     "execution_count": 6,
     "metadata": {},
     "output_type": "execute_result"
    }
   ],
   "source": [
    "def Q5(n):\n",
    "    coins = n\n",
    "    for i in range(0,n):\n",
    "        coins=coins-i\n",
    "        if(coins<0):\n",
    "            return i-1\n",
    "    return 1\n",
    "Q5(5)"
   ]
  },
  {
   "cell_type": "markdown",
   "id": "250bb98f",
   "metadata": {},
   "source": [
    "Question 6 Given an integer array nums sorted in non-decreasing order, return an array of the squares of each number sorted in non-decreasing order."
   ]
  },
  {
   "cell_type": "code",
   "execution_count": 9,
   "id": "c5cf0d9a",
   "metadata": {},
   "outputs": [
    {
     "data": {
      "text/plain": [
       "[0, 1, 9, 16, 100]"
      ]
     },
     "execution_count": 9,
     "metadata": {},
     "output_type": "execute_result"
    }
   ],
   "source": [
    "def Q6(nums):\n",
    "    n=len(nums)\n",
    "    for i in range(n):\n",
    "        nums[i] *= nums[i]\n",
    "    nums.sort()\n",
    "    return nums   \n",
    "Q6([-4,-1,0,3,10])"
   ]
  },
  {
   "cell_type": "markdown",
   "id": "33197ff1",
   "metadata": {},
   "source": [
    "Question 7 You are given an m x n matrix M initialized with all 0's and an array of operations ops, where ops[i] = [ai, bi] means M[x][y] should be incremented by one for all 0 <= x < ai and 0 <= y < bi."
   ]
  },
  {
   "cell_type": "code",
   "execution_count": 10,
   "id": "8a9e64f0",
   "metadata": {},
   "outputs": [
    {
     "data": {
      "text/plain": [
       "4"
      ]
     },
     "execution_count": 10,
     "metadata": {},
     "output_type": "execute_result"
    }
   ],
   "source": [
    "def Q7(m , n , ops):\n",
    "    length = len(ops)\n",
    "    if length == 0:\n",
    "        return m*n\n",
    "    result = [ops[0][0] , ops[0][1]]\n",
    "    for i in range(1,length):\n",
    "        result[0] = min(result[0] , ops[i][0])\n",
    "        result[1] = min(result[1] , ops[i][1])\n",
    "    return result[0]*result[1]\n",
    "Q7(3, 3, [[2,2],[3,3]])"
   ]
  },
  {
   "cell_type": "markdown",
   "id": "4d0653e7",
   "metadata": {},
   "source": [
    "Question 8\n",
    "Given the array nums consisting of 2n elements in the form [x1,x2,...,xn,y1,y2,...,yn].\n",
    "Return the array in the form [x1,y1,x2,y2,...,xn,yn]."
   ]
  },
  {
   "cell_type": "code",
   "execution_count": 11,
   "id": "9660e619",
   "metadata": {},
   "outputs": [
    {
     "data": {
      "text/plain": [
       "[2, 3, 4, 7, 5, 1]"
      ]
     },
     "execution_count": 11,
     "metadata": {},
     "output_type": "execute_result"
    }
   ],
   "source": [
    "def Q8(nums,n):\n",
    "    i, j, k = 0, 1, n\n",
    "    while(i < n):    \n",
    "        q = k \n",
    "        while(q > (i + j)):\n",
    "            nums[q - 1], nums[q] = nums[q], nums[q - 1]\n",
    "            q = q - 1\n",
    "        i = i + 1\n",
    "        k = k + 1\n",
    "        q = q + 1\n",
    "    arr = []\n",
    "    for b in range(0, len(nums)):\n",
    "        arr.append(nums[b])\n",
    "    return arr\n",
    "Q8([2,5,1,3,4,7], 3)"
   ]
  },
  {
   "cell_type": "code",
   "execution_count": null,
   "id": "c886b0d7",
   "metadata": {},
   "outputs": [],
   "source": []
  }
 ],
 "metadata": {
  "kernelspec": {
   "display_name": "Python 3 (ipykernel)",
   "language": "python",
   "name": "python3"
  },
  "language_info": {
   "codemirror_mode": {
    "name": "ipython",
    "version": 3
   },
   "file_extension": ".py",
   "mimetype": "text/x-python",
   "name": "python",
   "nbconvert_exporter": "python",
   "pygments_lexer": "ipython3",
   "version": "3.9.12"
  }
 },
 "nbformat": 4,
 "nbformat_minor": 5
}
